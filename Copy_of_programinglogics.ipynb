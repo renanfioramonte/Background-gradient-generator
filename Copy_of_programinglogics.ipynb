{
  "nbformat": 4,
  "nbformat_minor": 0,
  "metadata": {
    "colab": {
      "name": "Copy of programinglogics.ipynb",
      "provenance": [],
      "collapsed_sections": [],
      "authorship_tag": "ABX9TyMickVb82WMfiJjJtPfrnM4",
      "include_colab_link": true
    },
    "kernelspec": {
      "name": "python3",
      "display_name": "Python 3"
    },
    "language_info": {
      "name": "python"
    }
  },
  "cells": [
    {
      "cell_type": "markdown",
      "metadata": {
        "id": "view-in-github",
        "colab_type": "text"
      },
      "source": [
        "<a href=\"https://colab.research.google.com/github/renanfioramonte/Background-gradient-generator/blob/main/Copy_of_programinglogics.ipynb\" target=\"_parent\"><img src=\"https://colab.research.google.com/assets/colab-badge.svg\" alt=\"Open In Colab\"/></a>"
      ]
    },
    {
      "cell_type": "markdown",
      "metadata": {
        "id": "dVBveJuRbncB"
      },
      "source": [
        "# **Function with parameters**"
      ]
    },
    {
      "cell_type": "code",
      "metadata": {
        "id": "EOLmsrpIbHGv"
      },
      "source": [
        "nome = 'Renan'"
      ],
      "execution_count": 1,
      "outputs": []
    },
    {
      "cell_type": "code",
      "metadata": {
        "id": "SvMsxTHDbNnK"
      },
      "source": [
        "def saudacao_com_parametro(nome_da_pessoa):\n",
        "  print(f'Ola {nome_da_pessoa}')"
      ],
      "execution_count": 2,
      "outputs": []
    },
    {
      "cell_type": "code",
      "metadata": {
        "colab": {
          "base_uri": "https://localhost:8080/"
        },
        "id": "P1k-zd2tbfdB",
        "outputId": "b366b8fc-b0c5-4486-e1b1-097fcfc7288b"
      },
      "source": [
        "saudacao_com_parametro(nome)"
      ],
      "execution_count": 3,
      "outputs": [
        {
          "output_type": "stream",
          "text": [
            "Ola Renan\n"
          ],
          "name": "stdout"
        }
      ]
    },
    {
      "cell_type": "markdown",
      "metadata": {
        "id": "MP8QIcVcb6bT"
      },
      "source": [
        "## **Conditionals**\n"
      ]
    },
    {
      "cell_type": "code",
      "metadata": {
        "id": "oVrHmBYGbiag"
      },
      "source": [
        "idade = 25"
      ],
      "execution_count": null,
      "outputs": []
    },
    {
      "cell_type": "code",
      "metadata": {
        "id": "6jyc3xYgb8wR"
      },
      "source": [
        "def verificationdriving(idade):\n",
        "  if idade >= 18:\n",
        "    print('You are allowed to drive')\n",
        "  else:\n",
        "    print('You are not allowed to drive') \n",
        "\n"
      ],
      "execution_count": null,
      "outputs": []
    },
    {
      "cell_type": "code",
      "metadata": {
        "colab": {
          "base_uri": "https://localhost:8080/"
        },
        "id": "XcSHaU99cYQo",
        "outputId": "fc60efb2-f5f9-43cb-f3fb-dc1ec0fc7f3a"
      },
      "source": [
        "verificationdriving(idade)"
      ],
      "execution_count": null,
      "outputs": [
        {
          "output_type": "stream",
          "text": [
            "You are allowed to drive\n"
          ],
          "name": "stdout"
        }
      ]
    },
    {
      "cell_type": "markdown",
      "metadata": {
        "id": "dvVriX1hj6CD"
      },
      "source": [
        "# **FUNCTIONS WITHOUT PARAMETERS**"
      ]
    },
    {
      "cell_type": "code",
      "metadata": {
        "id": "tSbH5XWKca-w"
      },
      "source": [
        "def ageverification_noparameters():\n",
        "  idade = input('How old are you? ')\n",
        "  idade = int(idade)\n",
        "  if idade >= 18:\n",
        "    print('You are allowed to drive')\n",
        "  else:\n",
        "    print('You are not allowed to drive')  "
      ],
      "execution_count": null,
      "outputs": []
    },
    {
      "cell_type": "code",
      "metadata": {
        "colab": {
          "base_uri": "https://localhost:8080/"
        },
        "id": "1H7SgIP3d_6Y",
        "outputId": "5f40b75f-193d-4544-fa89-fa586a1d1c4f"
      },
      "source": [
        "ageverification_noparameters()\n"
      ],
      "execution_count": null,
      "outputs": [
        {
          "output_type": "stream",
          "text": [
            "How old are you? 25\n",
            "You are allowed to drive\n"
          ],
          "name": "stdout"
        }
      ]
    },
    {
      "cell_type": "code",
      "metadata": {
        "id": "IWSxJTiHeCJA"
      },
      "source": [
        ""
      ],
      "execution_count": null,
      "outputs": []
    },
    {
      "cell_type": "markdown",
      "metadata": {
        "id": "vGgRScnOlmUZ"
      },
      "source": [
        "# **FUNCTION WITH 2 PARAMETERS**"
      ]
    },
    {
      "cell_type": "code",
      "metadata": {
        "id": "efoC774mj9XW"
      },
      "source": [
        "def velocidade(espaco, tempo):\n",
        "  v = espaco / tempo\n",
        "  print(f'Velocidade: {v} m/s.')"
      ],
      "execution_count": null,
      "outputs": []
    },
    {
      "cell_type": "code",
      "metadata": {
        "colab": {
          "base_uri": "https://localhost:8080/"
        },
        "id": "e_-_iG4CmD_O",
        "outputId": "d2b4a820-c83f-4072-f4ef-9e1a19f4b2ab"
      },
      "source": [
        "velocidade(100, 20)"
      ],
      "execution_count": null,
      "outputs": [
        {
          "output_type": "stream",
          "text": [
            "Velocidade: 5.0 m/s.\n"
          ],
          "name": "stdout"
        }
      ]
    },
    {
      "cell_type": "code",
      "metadata": {
        "id": "0RZHEkiMmGX-"
      },
      "source": [
        ""
      ],
      "execution_count": null,
      "outputs": []
    }
  ]
}